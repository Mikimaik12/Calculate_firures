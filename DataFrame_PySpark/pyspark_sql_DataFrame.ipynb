{
  "nbformat": 4,
  "nbformat_minor": 0,
  "metadata": {
    "colab": {
      "provenance": []
    },
    "kernelspec": {
      "name": "python3",
      "display_name": "Python 3"
    },
    "language_info": {
      "name": "python"
    }
  },
  "cells": [
    {
      "cell_type": "markdown",
      "source": [
        "1. Инсталируем pyspark\n",
        "2. Импортируем библиотеки\n",
        "3. Cоздаем точку входа\n",
        "\n",
        "\n",
        "\n",
        "\n",
        "\n",
        "\n",
        "\n",
        "\n"
      ],
      "metadata": {
        "id": "bJvmyWDilo3O"
      }
    },
    {
      "cell_type": "code",
      "execution_count": 84,
      "metadata": {
        "id": "JZib-DH46fQq"
      },
      "outputs": [],
      "source": [
        "import pyspark\n",
        "from pyspark.sql import SparkSession\n",
        "from pyspark.sql import functions as F"
      ]
    },
    {
      "cell_type": "code",
      "source": [
        "spark = SparkSession.builder \\\n",
        "        .appName(\"ProductCategoryPairs\") \\\n",
        "        .getOrCreate()"
      ],
      "metadata": {
        "id": "o8czYUyQ6h6o"
      },
      "execution_count": 85,
      "outputs": []
    },
    {
      "cell_type": "markdown",
      "source": [
        "Создаем 3 датафрейма: продукты, категории и их связи\n",
        "\n",
        ">*products_df*\n",
        "\n",
        ">*categories_data*\n",
        "\n",
        "> *associations_data*\n",
        "# Связи:\n",
        "1. Kiwi - Stone Fruits\n",
        "2. Pomegranate - Stone Fruits\n",
        "3. Cabbage - Leafy Vegetables, Cruciferous\n",
        "4. Zucchini - Leafy Vegetables\n",
        "5. Raspberry - Berries, Fruits\n",
        "6. Blackberry - Nightshades, Berries\n",
        "7. Eggplant - Nightshades, Berries\n",
        "8. Spinach - Leafy Vegetables\n",
        "9. Radish - Nightshades, Root Vegetables\n",
        "10. Mango - Fruits, Stone Fruits, Citrus"
      ],
      "metadata": {
        "id": "95UiIW6znS0K"
      }
    },
    {
      "cell_type": "code",
      "source": [
        "products_df = spark.createDataFrame([\n",
        "    (1, 'Kiwi'),\n",
        "    (2, 'Pomegranate'),\n",
        "    (3, 'Cabbage'),\n",
        "    (4, 'Zucchini'),\n",
        "    (5, 'Raspberry'),\n",
        "    (6, 'Blackberry'),\n",
        "    (7, 'Eggplant'),\n",
        "    (8, 'Spinach'),\n",
        "    (9, 'Radish'),\n",
        "    (10, 'Mango')],\n",
        "    ['id', 'product_name', ])"
      ],
      "metadata": {
        "id": "ua4nRGyn7HLx"
      },
      "execution_count": 77,
      "outputs": []
    },
    {
      "cell_type": "code",
      "source": [
        "categories_df = spark.createDataFrame([\n",
        "    (1, 'Fruits'),\n",
        "    (2, 'Stone Fruits'),\n",
        "    (3, 'Citrus'),\n",
        "    (4, 'Legumes'),\n",
        "    (5, 'Peppers'),\n",
        "    (6, 'Nightshades'),\n",
        "    (7, 'Cruciferous'),\n",
        "    (8, 'Root Vegetables'),\n",
        "    (9, 'Tropical'),\n",
        "    (10, 'Peppers'), ],\n",
        "    ['id', 'category_name', ]\n",
        ")"
      ],
      "metadata": {
        "id": "a2WztzCg7rQo"
      },
      "execution_count": 78,
      "outputs": []
    },
    {
      "cell_type": "code",
      "source": [
        "associations_df = spark.createDataFrame([\n",
        "    (1, [2]),\n",
        "    (2, [2]),\n",
        "    (3, [7]),\n",
        "    (4, []),\n",
        "    (5, [5, 1]),\n",
        "    (6, [6, 5]),\n",
        "    (7, [6, 5]),\n",
        "    (8, []),\n",
        "    (9, [6, 8]),\n",
        "    (10, [1, 2, 3]), ],\n",
        "    ['id_product', 'id_categories', ]\n",
        ")"
      ],
      "metadata": {
        "id": "lguJI4tC-GyE"
      },
      "execution_count": 79,
      "outputs": []
    },
    {
      "cell_type": "code",
      "source": [
        "print(\"Продукты:\")\n",
        "products_df.show()\n",
        "print(\"Категории:\")\n",
        "categories_df.show()\n",
        "print(\"Связи:\")\n",
        "associations_df.show()"
      ],
      "metadata": {
        "colab": {
          "base_uri": "https://localhost:8080/"
        },
        "id": "-eCvM1CWAbRN",
        "outputId": "4c4cc453-81d2-42fc-9340-b8ff12e50ef9"
      },
      "execution_count": 80,
      "outputs": [
        {
          "output_type": "stream",
          "name": "stdout",
          "text": [
            "Продукты:\n",
            "+---+------------+\n",
            "| id|product_name|\n",
            "+---+------------+\n",
            "|  1|        Kiwi|\n",
            "|  2| Pomegranate|\n",
            "|  3|     Cabbage|\n",
            "|  4|    Zucchini|\n",
            "|  5|   Raspberry|\n",
            "|  6|  Blackberry|\n",
            "|  7|    Eggplant|\n",
            "|  8|     Spinach|\n",
            "|  9|      Radish|\n",
            "| 10|       Mango|\n",
            "+---+------------+\n",
            "\n",
            "Категории:\n",
            "+---+---------------+\n",
            "| id|  category_name|\n",
            "+---+---------------+\n",
            "|  1|         Fruits|\n",
            "|  2|   Stone Fruits|\n",
            "|  3|         Citrus|\n",
            "|  4|        Legumes|\n",
            "|  5|        Peppers|\n",
            "|  6|    Nightshades|\n",
            "|  7|    Cruciferous|\n",
            "|  8|Root Vegetables|\n",
            "|  9|       Tropical|\n",
            "| 10|        Peppers|\n",
            "+---+---------------+\n",
            "\n",
            "Связи:\n",
            "+----------+-------------+\n",
            "|id_product|id_categories|\n",
            "+----------+-------------+\n",
            "|         1|          [2]|\n",
            "|         2|          [2]|\n",
            "|         3|          [7]|\n",
            "|         4|           []|\n",
            "|         5|       [5, 1]|\n",
            "|         6|       [6, 5]|\n",
            "|         7|       [6, 5]|\n",
            "|         8|           []|\n",
            "|         9|       [6, 8]|\n",
            "|        10|    [1, 2, 3]|\n",
            "+----------+-------------+\n",
            "\n"
          ]
        }
      ]
    },
    {
      "cell_type": "markdown",
      "source": [
        "+ Разворачиваем ассоциации в отдельные строки\n",
        "+ Объединяем с продуктами и категориями без продуктов, у которых нет категорий\n",
        "+ Получаем имена всех продуктов, у которых нет категорий"
      ],
      "metadata": {
        "id": "eTTwN9m_1IOP"
      }
    },
    {
      "cell_type": "code",
      "source": [
        "exploded_associations_df = associations_df \\\n",
        "    .withColumn(\"id_category\", F.explode(\"id_categories\")) \\\n",
        "    .select(\"id_product\", \"id_category\")"
      ],
      "metadata": {
        "id": "OrYWN6SNvl6y"
      },
      "execution_count": null,
      "outputs": []
    },
    {
      "cell_type": "code",
      "source": [
        "result_df = exploded_associations_df \\\n",
        "    .join(products_df, exploded_associations_df.id_product == products_df.id, \"inner\") \\\n",
        "    .join(categories_df, exploded_associations_df.id_category == categories_df.id, \"inner\") \\\n",
        "    .select(products_df.product_name, categories_df.category_name)"
      ],
      "metadata": {
        "id": "ArUk_QzizOHj"
      },
      "execution_count": null,
      "outputs": []
    },
    {
      "cell_type": "code",
      "source": [
        "no_category_df = products_df.join(exploded_associations_df, products_df.id == exploded_associations_df.id_product, \"left_anti\")"
      ],
      "metadata": {
        "id": "x8dYigmpzVUX"
      },
      "execution_count": null,
      "outputs": []
    },
    {
      "cell_type": "markdown",
      "source": [
        "Получаем все пары **«Имя продукта – Имя категории»** и **Имена всех продуктов, у которых нет категорий**"
      ],
      "metadata": {
        "id": "HnCC3na_1pYy"
      }
    },
    {
      "cell_type": "code",
      "source": [
        "print(\"Все пары 'Имя продукта - Имя категории':\")\n",
        "result_df.show()\n"
      ],
      "metadata": {
        "colab": {
          "base_uri": "https://localhost:8080/"
        },
        "id": "wvP92Ge70jX-",
        "outputId": "75d643d2-135d-462d-fa4e-d412d22b21cb"
      },
      "execution_count": null,
      "outputs": [
        {
          "output_type": "stream",
          "name": "stdout",
          "text": [
            "Все пары 'Имя продукта - Имя категории':\n",
            "+------------+---------------+\n",
            "|product_name|  category_name|\n",
            "+------------+---------------+\n",
            "|    Eggplant|        Peppers|\n",
            "|  Blackberry|        Peppers|\n",
            "|   Raspberry|        Peppers|\n",
            "|       Mango|         Fruits|\n",
            "|   Raspberry|         Fruits|\n",
            "|       Mango|         Citrus|\n",
            "|       Mango|   Stone Fruits|\n",
            "| Pomegranate|   Stone Fruits|\n",
            "|        Kiwi|   Stone Fruits|\n",
            "|     Cabbage|    Cruciferous|\n",
            "|      Radish|    Nightshades|\n",
            "|    Eggplant|    Nightshades|\n",
            "|  Blackberry|    Nightshades|\n",
            "|      Radish|Root Vegetables|\n",
            "+------------+---------------+\n",
            "\n"
          ]
        }
      ]
    },
    {
      "cell_type": "code",
      "source": [
        "print(\"Продукты без категорий:\")\n",
        "no_category_df.select(\"product_name\").show()"
      ],
      "metadata": {
        "colab": {
          "base_uri": "https://localhost:8080/"
        },
        "id": "zVy1h03o0nYP",
        "outputId": "f8accd5e-b61b-4229-d161-fdaa3d0231ce"
      },
      "execution_count": null,
      "outputs": [
        {
          "output_type": "stream",
          "name": "stdout",
          "text": [
            "Продукты без категорий:\n",
            "+------------+\n",
            "|product_name|\n",
            "+------------+\n",
            "|    Zucchini|\n",
            "|     Spinach|\n",
            "+------------+\n",
            "\n"
          ]
        }
      ]
    },
    {
      "cell_type": "code",
      "source": [
        "spark.stop()"
      ],
      "metadata": {
        "id": "BGUYORg42AxE"
      },
      "execution_count": 83,
      "outputs": []
    }
  ]
}